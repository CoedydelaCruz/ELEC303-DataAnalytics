{
 "cells": [
  {
   "cell_type": "markdown",
   "id": "471139c9-67f8-4f09-a7eb-29b16413d277",
   "metadata": {},
   "source": [
    "<h1>1) Importing Necessary Libraries</h1>"
   ]
  },
  {
   "cell_type": "code",
   "execution_count": 1,
   "id": "bab6d17c-3b83-40bf-b36d-25481f834376",
   "metadata": {},
   "outputs": [],
   "source": [
    "import numpy as np\n",
    "import pandas as pd\n",
    "import warnings\n",
    "warnings.filterwarnings('ignore')"
   ]
  },
  {
   "cell_type": "markdown",
   "id": "87e1d438-c245-4b49-a30a-8cd3e6ab89b0",
   "metadata": {},
   "source": [
    "<h1>2) Coverting data set to data frame</h1>"
   ]
  },
  {
   "cell_type": "code",
   "execution_count": 2,
   "id": "9d67d59b-2597-4a22-b48b-adb94ef0edb6",
   "metadata": {},
   "outputs": [],
   "source": [
    "accident = pd.read_csv('uk_road_accident.csv')"
   ]
  },
  {
   "cell_type": "markdown",
   "id": "eda7dc2c-ee6a-4664-8060-576c9dcd21fc",
   "metadata": {},
   "source": [
    "<h1>3) Check Dataframe Information</h1>"
   ]
  },
  {
   "cell_type": "code",
   "execution_count": 3,
   "id": "a860d603-0214-4c6e-a3d4-7fd0929440c5",
   "metadata": {},
   "outputs": [
    {
     "data": {
      "text/html": [
       "<div>\n",
       "<style scoped>\n",
       "    .dataframe tbody tr th:only-of-type {\n",
       "        vertical-align: middle;\n",
       "    }\n",
       "\n",
       "    .dataframe tbody tr th {\n",
       "        vertical-align: top;\n",
       "    }\n",
       "\n",
       "    .dataframe thead th {\n",
       "        text-align: right;\n",
       "    }\n",
       "</style>\n",
       "<table border=\"1\" class=\"dataframe\">\n",
       "  <thead>\n",
       "    <tr style=\"text-align: right;\">\n",
       "      <th></th>\n",
       "      <th>Index</th>\n",
       "      <th>Accident_Severity</th>\n",
       "      <th>Accident Date</th>\n",
       "      <th>Latitude</th>\n",
       "      <th>Light_Conditions</th>\n",
       "      <th>District Area</th>\n",
       "      <th>Longitude</th>\n",
       "      <th>Number_of_Casualties</th>\n",
       "      <th>Number_of_Vehicles</th>\n",
       "      <th>Road_Surface_Conditions</th>\n",
       "      <th>Road_Type</th>\n",
       "      <th>Urban_or_Rural_Area</th>\n",
       "      <th>Weather_Conditions</th>\n",
       "      <th>Vehicle_Type</th>\n",
       "    </tr>\n",
       "  </thead>\n",
       "  <tbody>\n",
       "    <tr>\n",
       "      <th>0</th>\n",
       "      <td>200701BS64157</td>\n",
       "      <td>Serious</td>\n",
       "      <td>5/6/2019</td>\n",
       "      <td>51.506187</td>\n",
       "      <td>Darkness - lights lit</td>\n",
       "      <td>Kensington and Chelsea</td>\n",
       "      <td>-0.209082</td>\n",
       "      <td>1</td>\n",
       "      <td>2</td>\n",
       "      <td>Dry</td>\n",
       "      <td>Single carriageway</td>\n",
       "      <td>Urban</td>\n",
       "      <td>Fine no high winds</td>\n",
       "      <td>Car</td>\n",
       "    </tr>\n",
       "    <tr>\n",
       "      <th>1</th>\n",
       "      <td>200701BS65737</td>\n",
       "      <td>Serious</td>\n",
       "      <td>2/7/2019</td>\n",
       "      <td>51.495029</td>\n",
       "      <td>Daylight</td>\n",
       "      <td>Kensington and Chelsea</td>\n",
       "      <td>-0.173647</td>\n",
       "      <td>1</td>\n",
       "      <td>2</td>\n",
       "      <td>Wet or damp</td>\n",
       "      <td>Single carriageway</td>\n",
       "      <td>Urban</td>\n",
       "      <td>Raining no high winds</td>\n",
       "      <td>Car</td>\n",
       "    </tr>\n",
       "    <tr>\n",
       "      <th>2</th>\n",
       "      <td>200701BS66127</td>\n",
       "      <td>Serious</td>\n",
       "      <td>26-08-2019</td>\n",
       "      <td>51.517715</td>\n",
       "      <td>Darkness - lighting unknown</td>\n",
       "      <td>Kensington and Chelsea</td>\n",
       "      <td>-0.210215</td>\n",
       "      <td>1</td>\n",
       "      <td>3</td>\n",
       "      <td>Dry</td>\n",
       "      <td>NaN</td>\n",
       "      <td>Urban</td>\n",
       "      <td>NaN</td>\n",
       "      <td>Taxi/Private hire car</td>\n",
       "    </tr>\n",
       "    <tr>\n",
       "      <th>3</th>\n",
       "      <td>200701BS66128</td>\n",
       "      <td>Serious</td>\n",
       "      <td>16-08-2019</td>\n",
       "      <td>51.495478</td>\n",
       "      <td>Daylight</td>\n",
       "      <td>Kensington and Chelsea</td>\n",
       "      <td>-0.202731</td>\n",
       "      <td>1</td>\n",
       "      <td>4</td>\n",
       "      <td>Dry</td>\n",
       "      <td>Single carriageway</td>\n",
       "      <td>Urban</td>\n",
       "      <td>Fine no high winds</td>\n",
       "      <td>Bus or coach (17 or more pass seats)</td>\n",
       "    </tr>\n",
       "    <tr>\n",
       "      <th>4</th>\n",
       "      <td>200701BS66837</td>\n",
       "      <td>Slight</td>\n",
       "      <td>3/9/2019</td>\n",
       "      <td>51.488576</td>\n",
       "      <td>Darkness - lights lit</td>\n",
       "      <td>Kensington and Chelsea</td>\n",
       "      <td>-0.192487</td>\n",
       "      <td>1</td>\n",
       "      <td>2</td>\n",
       "      <td>Dry</td>\n",
       "      <td>NaN</td>\n",
       "      <td>Urban</td>\n",
       "      <td>NaN</td>\n",
       "      <td>Other vehicle</td>\n",
       "    </tr>\n",
       "    <tr>\n",
       "      <th>...</th>\n",
       "      <td>...</td>\n",
       "      <td>...</td>\n",
       "      <td>...</td>\n",
       "      <td>...</td>\n",
       "      <td>...</td>\n",
       "      <td>...</td>\n",
       "      <td>...</td>\n",
       "      <td>...</td>\n",
       "      <td>...</td>\n",
       "      <td>...</td>\n",
       "      <td>...</td>\n",
       "      <td>...</td>\n",
       "      <td>...</td>\n",
       "      <td>...</td>\n",
       "    </tr>\n",
       "    <tr>\n",
       "      <th>660674</th>\n",
       "      <td>201091NM01760</td>\n",
       "      <td>Slight</td>\n",
       "      <td>18-02-2022</td>\n",
       "      <td>57.374005</td>\n",
       "      <td>Daylight</td>\n",
       "      <td>Highland</td>\n",
       "      <td>-3.467828</td>\n",
       "      <td>2</td>\n",
       "      <td>1</td>\n",
       "      <td>Dry</td>\n",
       "      <td>Single carriageway</td>\n",
       "      <td>Rural</td>\n",
       "      <td>Fine no high winds</td>\n",
       "      <td>Car</td>\n",
       "    </tr>\n",
       "    <tr>\n",
       "      <th>660675</th>\n",
       "      <td>201091NM01881</td>\n",
       "      <td>Slight</td>\n",
       "      <td>21-02-2022</td>\n",
       "      <td>57.232273</td>\n",
       "      <td>Darkness - no lighting</td>\n",
       "      <td>Highland</td>\n",
       "      <td>-3.809281</td>\n",
       "      <td>1</td>\n",
       "      <td>1</td>\n",
       "      <td>Frost or ice</td>\n",
       "      <td>Single carriageway</td>\n",
       "      <td>Rural</td>\n",
       "      <td>Fine no high winds</td>\n",
       "      <td>Car</td>\n",
       "    </tr>\n",
       "    <tr>\n",
       "      <th>660676</th>\n",
       "      <td>201091NM01935</td>\n",
       "      <td>Slight</td>\n",
       "      <td>23-02-2022</td>\n",
       "      <td>57.585044</td>\n",
       "      <td>Daylight</td>\n",
       "      <td>Highland</td>\n",
       "      <td>-3.862727</td>\n",
       "      <td>1</td>\n",
       "      <td>3</td>\n",
       "      <td>Frost or ice</td>\n",
       "      <td>Single carriageway</td>\n",
       "      <td>Rural</td>\n",
       "      <td>Fine no high winds</td>\n",
       "      <td>Car</td>\n",
       "    </tr>\n",
       "    <tr>\n",
       "      <th>660677</th>\n",
       "      <td>201091NM01964</td>\n",
       "      <td>Serious</td>\n",
       "      <td>23-02-2022</td>\n",
       "      <td>57.214898</td>\n",
       "      <td>Darkness - no lighting</td>\n",
       "      <td>Highland</td>\n",
       "      <td>-3.823997</td>\n",
       "      <td>1</td>\n",
       "      <td>2</td>\n",
       "      <td>Wet or damp</td>\n",
       "      <td>Single carriageway</td>\n",
       "      <td>Rural</td>\n",
       "      <td>Fine no high winds</td>\n",
       "      <td>Motorcycle over 500cc</td>\n",
       "    </tr>\n",
       "    <tr>\n",
       "      <th>660678</th>\n",
       "      <td>201091NM02142</td>\n",
       "      <td>Serious</td>\n",
       "      <td>28-02-2022</td>\n",
       "      <td>57.575210</td>\n",
       "      <td>Daylight</td>\n",
       "      <td>Highland</td>\n",
       "      <td>-3.895673</td>\n",
       "      <td>1</td>\n",
       "      <td>1</td>\n",
       "      <td>Wet or damp</td>\n",
       "      <td>Dual carriageway</td>\n",
       "      <td>Rural</td>\n",
       "      <td>Snowing no high winds</td>\n",
       "      <td>Car</td>\n",
       "    </tr>\n",
       "  </tbody>\n",
       "</table>\n",
       "<p>660679 rows × 14 columns</p>\n",
       "</div>"
      ],
      "text/plain": [
       "                Index Accident_Severity Accident Date   Latitude  \\\n",
       "0       200701BS64157           Serious      5/6/2019  51.506187   \n",
       "1       200701BS65737           Serious      2/7/2019  51.495029   \n",
       "2       200701BS66127           Serious    26-08-2019  51.517715   \n",
       "3       200701BS66128           Serious    16-08-2019  51.495478   \n",
       "4       200701BS66837            Slight      3/9/2019  51.488576   \n",
       "...               ...               ...           ...        ...   \n",
       "660674  201091NM01760            Slight    18-02-2022  57.374005   \n",
       "660675  201091NM01881            Slight    21-02-2022  57.232273   \n",
       "660676  201091NM01935            Slight    23-02-2022  57.585044   \n",
       "660677  201091NM01964           Serious    23-02-2022  57.214898   \n",
       "660678  201091NM02142           Serious    28-02-2022  57.575210   \n",
       "\n",
       "                   Light_Conditions           District Area  Longitude  \\\n",
       "0             Darkness - lights lit  Kensington and Chelsea  -0.209082   \n",
       "1                          Daylight  Kensington and Chelsea  -0.173647   \n",
       "2       Darkness - lighting unknown  Kensington and Chelsea  -0.210215   \n",
       "3                          Daylight  Kensington and Chelsea  -0.202731   \n",
       "4             Darkness - lights lit  Kensington and Chelsea  -0.192487   \n",
       "...                             ...                     ...        ...   \n",
       "660674                     Daylight                Highland  -3.467828   \n",
       "660675       Darkness - no lighting                Highland  -3.809281   \n",
       "660676                     Daylight                Highland  -3.862727   \n",
       "660677       Darkness - no lighting                Highland  -3.823997   \n",
       "660678                     Daylight                Highland  -3.895673   \n",
       "\n",
       "        Number_of_Casualties  Number_of_Vehicles Road_Surface_Conditions  \\\n",
       "0                          1                   2                     Dry   \n",
       "1                          1                   2             Wet or damp   \n",
       "2                          1                   3                     Dry   \n",
       "3                          1                   4                     Dry   \n",
       "4                          1                   2                     Dry   \n",
       "...                      ...                 ...                     ...   \n",
       "660674                     2                   1                     Dry   \n",
       "660675                     1                   1            Frost or ice   \n",
       "660676                     1                   3            Frost or ice   \n",
       "660677                     1                   2             Wet or damp   \n",
       "660678                     1                   1             Wet or damp   \n",
       "\n",
       "                 Road_Type Urban_or_Rural_Area     Weather_Conditions  \\\n",
       "0       Single carriageway               Urban     Fine no high winds   \n",
       "1       Single carriageway               Urban  Raining no high winds   \n",
       "2                      NaN               Urban                    NaN   \n",
       "3       Single carriageway               Urban     Fine no high winds   \n",
       "4                      NaN               Urban                    NaN   \n",
       "...                    ...                 ...                    ...   \n",
       "660674  Single carriageway               Rural     Fine no high winds   \n",
       "660675  Single carriageway               Rural     Fine no high winds   \n",
       "660676  Single carriageway               Rural     Fine no high winds   \n",
       "660677  Single carriageway               Rural     Fine no high winds   \n",
       "660678    Dual carriageway               Rural  Snowing no high winds   \n",
       "\n",
       "                                Vehicle_Type  \n",
       "0                                        Car  \n",
       "1                                        Car  \n",
       "2                      Taxi/Private hire car  \n",
       "3       Bus or coach (17 or more pass seats)  \n",
       "4                              Other vehicle  \n",
       "...                                      ...  \n",
       "660674                                   Car  \n",
       "660675                                   Car  \n",
       "660676                                   Car  \n",
       "660677                 Motorcycle over 500cc  \n",
       "660678                                   Car  \n",
       "\n",
       "[660679 rows x 14 columns]"
      ]
     },
     "execution_count": 3,
     "metadata": {},
     "output_type": "execute_result"
    }
   ],
   "source": [
    "accident"
   ]
  },
  {
   "cell_type": "markdown",
   "id": "f68c1773-0d0f-41d1-bd23-b62a1ce154cd",
   "metadata": {},
   "source": [
    "<h1>4) Check Discriptive Statistics</h1>"
   ]
  },
  {
   "cell_type": "code",
   "execution_count": 4,
   "id": "88b5ec42-76e8-4a51-930e-50d81b7e23fa",
   "metadata": {},
   "outputs": [
    {
     "data": {
      "text/html": [
       "<div>\n",
       "<style scoped>\n",
       "    .dataframe tbody tr th:only-of-type {\n",
       "        vertical-align: middle;\n",
       "    }\n",
       "\n",
       "    .dataframe tbody tr th {\n",
       "        vertical-align: top;\n",
       "    }\n",
       "\n",
       "    .dataframe thead th {\n",
       "        text-align: right;\n",
       "    }\n",
       "</style>\n",
       "<table border=\"1\" class=\"dataframe\">\n",
       "  <thead>\n",
       "    <tr style=\"text-align: right;\">\n",
       "      <th></th>\n",
       "      <th>Latitude</th>\n",
       "      <th>Longitude</th>\n",
       "      <th>Number_of_Casualties</th>\n",
       "      <th>Number_of_Vehicles</th>\n",
       "    </tr>\n",
       "  </thead>\n",
       "  <tbody>\n",
       "    <tr>\n",
       "      <th>count</th>\n",
       "      <td>660654.000000</td>\n",
       "      <td>660653.000000</td>\n",
       "      <td>660679.000000</td>\n",
       "      <td>660679.000000</td>\n",
       "    </tr>\n",
       "    <tr>\n",
       "      <th>mean</th>\n",
       "      <td>52.553866</td>\n",
       "      <td>-1.431210</td>\n",
       "      <td>1.357040</td>\n",
       "      <td>1.831255</td>\n",
       "    </tr>\n",
       "    <tr>\n",
       "      <th>std</th>\n",
       "      <td>1.406922</td>\n",
       "      <td>1.383330</td>\n",
       "      <td>0.824847</td>\n",
       "      <td>0.715269</td>\n",
       "    </tr>\n",
       "    <tr>\n",
       "      <th>min</th>\n",
       "      <td>49.914430</td>\n",
       "      <td>-7.516225</td>\n",
       "      <td>1.000000</td>\n",
       "      <td>1.000000</td>\n",
       "    </tr>\n",
       "    <tr>\n",
       "      <th>25%</th>\n",
       "      <td>51.490690</td>\n",
       "      <td>-2.332291</td>\n",
       "      <td>1.000000</td>\n",
       "      <td>1.000000</td>\n",
       "    </tr>\n",
       "    <tr>\n",
       "      <th>50%</th>\n",
       "      <td>52.315641</td>\n",
       "      <td>-1.411667</td>\n",
       "      <td>1.000000</td>\n",
       "      <td>2.000000</td>\n",
       "    </tr>\n",
       "    <tr>\n",
       "      <th>75%</th>\n",
       "      <td>53.453452</td>\n",
       "      <td>-0.232869</td>\n",
       "      <td>1.000000</td>\n",
       "      <td>2.000000</td>\n",
       "    </tr>\n",
       "    <tr>\n",
       "      <th>max</th>\n",
       "      <td>60.757544</td>\n",
       "      <td>1.762010</td>\n",
       "      <td>68.000000</td>\n",
       "      <td>32.000000</td>\n",
       "    </tr>\n",
       "  </tbody>\n",
       "</table>\n",
       "</div>"
      ],
      "text/plain": [
       "            Latitude      Longitude  Number_of_Casualties  Number_of_Vehicles\n",
       "count  660654.000000  660653.000000         660679.000000       660679.000000\n",
       "mean       52.553866      -1.431210              1.357040            1.831255\n",
       "std         1.406922       1.383330              0.824847            0.715269\n",
       "min        49.914430      -7.516225              1.000000            1.000000\n",
       "25%        51.490690      -2.332291              1.000000            1.000000\n",
       "50%        52.315641      -1.411667              1.000000            2.000000\n",
       "75%        53.453452      -0.232869              1.000000            2.000000\n",
       "max        60.757544       1.762010             68.000000           32.000000"
      ]
     },
     "execution_count": 4,
     "metadata": {},
     "output_type": "execute_result"
    }
   ],
   "source": [
    "accident.describe()"
   ]
  },
  {
   "cell_type": "code",
   "execution_count": 5,
   "id": "954ffd7c-1f54-4b60-aad7-1dea2014ff5b",
   "metadata": {},
   "outputs": [
    {
     "data": {
      "text/html": [
       "<div>\n",
       "<style scoped>\n",
       "    .dataframe tbody tr th:only-of-type {\n",
       "        vertical-align: middle;\n",
       "    }\n",
       "\n",
       "    .dataframe tbody tr th {\n",
       "        vertical-align: top;\n",
       "    }\n",
       "\n",
       "    .dataframe thead th {\n",
       "        text-align: right;\n",
       "    }\n",
       "</style>\n",
       "<table border=\"1\" class=\"dataframe\">\n",
       "  <thead>\n",
       "    <tr style=\"text-align: right;\">\n",
       "      <th></th>\n",
       "      <th>count</th>\n",
       "      <th>mean</th>\n",
       "      <th>std</th>\n",
       "      <th>min</th>\n",
       "      <th>25%</th>\n",
       "      <th>50%</th>\n",
       "      <th>75%</th>\n",
       "      <th>max</th>\n",
       "    </tr>\n",
       "  </thead>\n",
       "  <tbody>\n",
       "    <tr>\n",
       "      <th>Latitude</th>\n",
       "      <td>660654.0</td>\n",
       "      <td>52.553866</td>\n",
       "      <td>1.406922</td>\n",
       "      <td>49.914430</td>\n",
       "      <td>51.490690</td>\n",
       "      <td>52.315641</td>\n",
       "      <td>53.453452</td>\n",
       "      <td>60.757544</td>\n",
       "    </tr>\n",
       "    <tr>\n",
       "      <th>Longitude</th>\n",
       "      <td>660653.0</td>\n",
       "      <td>-1.431210</td>\n",
       "      <td>1.383330</td>\n",
       "      <td>-7.516225</td>\n",
       "      <td>-2.332291</td>\n",
       "      <td>-1.411667</td>\n",
       "      <td>-0.232869</td>\n",
       "      <td>1.762010</td>\n",
       "    </tr>\n",
       "    <tr>\n",
       "      <th>Number_of_Casualties</th>\n",
       "      <td>660679.0</td>\n",
       "      <td>1.357040</td>\n",
       "      <td>0.824847</td>\n",
       "      <td>1.000000</td>\n",
       "      <td>1.000000</td>\n",
       "      <td>1.000000</td>\n",
       "      <td>1.000000</td>\n",
       "      <td>68.000000</td>\n",
       "    </tr>\n",
       "    <tr>\n",
       "      <th>Number_of_Vehicles</th>\n",
       "      <td>660679.0</td>\n",
       "      <td>1.831255</td>\n",
       "      <td>0.715269</td>\n",
       "      <td>1.000000</td>\n",
       "      <td>1.000000</td>\n",
       "      <td>2.000000</td>\n",
       "      <td>2.000000</td>\n",
       "      <td>32.000000</td>\n",
       "    </tr>\n",
       "  </tbody>\n",
       "</table>\n",
       "</div>"
      ],
      "text/plain": [
       "                         count       mean       std        min        25%  \\\n",
       "Latitude              660654.0  52.553866  1.406922  49.914430  51.490690   \n",
       "Longitude             660653.0  -1.431210  1.383330  -7.516225  -2.332291   \n",
       "Number_of_Casualties  660679.0   1.357040  0.824847   1.000000   1.000000   \n",
       "Number_of_Vehicles    660679.0   1.831255  0.715269   1.000000   1.000000   \n",
       "\n",
       "                            50%        75%        max  \n",
       "Latitude              52.315641  53.453452  60.757544  \n",
       "Longitude             -1.411667  -0.232869   1.762010  \n",
       "Number_of_Casualties   1.000000   1.000000  68.000000  \n",
       "Number_of_Vehicles     2.000000   2.000000  32.000000  "
      ]
     },
     "execution_count": 5,
     "metadata": {},
     "output_type": "execute_result"
    }
   ],
   "source": [
    "accident.describe().T"
   ]
  },
  {
   "cell_type": "markdown",
   "id": "1984beef-0a90-4e44-9ef9-b0494f8490e7",
   "metadata": {},
   "source": [
    "<h1>5) Call Each Column Individually</h1>"
   ]
  },
  {
   "cell_type": "code",
   "execution_count": 6,
   "id": "aac1c4d0-3318-48a9-b139-b18fac3347a3",
   "metadata": {},
   "outputs": [
    {
     "data": {
      "text/plain": [
       "0         200701BS64157\n",
       "1         200701BS65737\n",
       "2         200701BS66127\n",
       "3         200701BS66128\n",
       "4         200701BS66837\n",
       "              ...      \n",
       "660674    201091NM01760\n",
       "660675    201091NM01881\n",
       "660676    201091NM01935\n",
       "660677    201091NM01964\n",
       "660678    201091NM02142\n",
       "Name: Index, Length: 660679, dtype: object"
      ]
     },
     "execution_count": 6,
     "metadata": {},
     "output_type": "execute_result"
    }
   ],
   "source": [
    "accident['Index']"
   ]
  },
  {
   "cell_type": "code",
   "execution_count": 7,
   "id": "4568cf63-c67d-41fd-92e3-592e2988096c",
   "metadata": {},
   "outputs": [
    {
     "data": {
      "text/plain": [
       "0         Serious\n",
       "1         Serious\n",
       "2         Serious\n",
       "3         Serious\n",
       "4          Slight\n",
       "           ...   \n",
       "660674     Slight\n",
       "660675     Slight\n",
       "660676     Slight\n",
       "660677    Serious\n",
       "660678    Serious\n",
       "Name: Accident_Severity, Length: 660679, dtype: object"
      ]
     },
     "execution_count": 7,
     "metadata": {},
     "output_type": "execute_result"
    }
   ],
   "source": [
    "accident['Accident_Severity']"
   ]
  },
  {
   "cell_type": "code",
   "execution_count": 8,
   "id": "198e54e9-109c-46c8-bf7e-52a774c8c50f",
   "metadata": {},
   "outputs": [
    {
     "data": {
      "text/plain": [
       "0           5/6/2019\n",
       "1           2/7/2019\n",
       "2         26-08-2019\n",
       "3         16-08-2019\n",
       "4           3/9/2019\n",
       "             ...    \n",
       "660674    18-02-2022\n",
       "660675    21-02-2022\n",
       "660676    23-02-2022\n",
       "660677    23-02-2022\n",
       "660678    28-02-2022\n",
       "Name: Accident Date, Length: 660679, dtype: object"
      ]
     },
     "execution_count": 8,
     "metadata": {},
     "output_type": "execute_result"
    }
   ],
   "source": [
    "accident['Accident Date']"
   ]
  },
  {
   "cell_type": "code",
   "execution_count": 9,
   "id": "267c779e-b4e2-455d-966a-16143eea89af",
   "metadata": {},
   "outputs": [
    {
     "data": {
      "text/plain": [
       "0         51.506187\n",
       "1         51.495029\n",
       "2         51.517715\n",
       "3         51.495478\n",
       "4         51.488576\n",
       "            ...    \n",
       "660674    57.374005\n",
       "660675    57.232273\n",
       "660676    57.585044\n",
       "660677    57.214898\n",
       "660678    57.575210\n",
       "Name: Latitude, Length: 660679, dtype: float64"
      ]
     },
     "execution_count": 9,
     "metadata": {},
     "output_type": "execute_result"
    }
   ],
   "source": [
    "accident['Latitude']"
   ]
  },
  {
   "cell_type": "code",
   "execution_count": 10,
   "id": "a192dd97-fb92-4b3e-9e40-9704867947fa",
   "metadata": {},
   "outputs": [
    {
     "data": {
      "text/plain": [
       "0               Darkness - lights lit\n",
       "1                            Daylight\n",
       "2         Darkness - lighting unknown\n",
       "3                            Daylight\n",
       "4               Darkness - lights lit\n",
       "                     ...             \n",
       "660674                       Daylight\n",
       "660675         Darkness - no lighting\n",
       "660676                       Daylight\n",
       "660677         Darkness - no lighting\n",
       "660678                       Daylight\n",
       "Name: Light_Conditions, Length: 660679, dtype: object"
      ]
     },
     "execution_count": 10,
     "metadata": {},
     "output_type": "execute_result"
    }
   ],
   "source": [
    "accident['Light_Conditions']"
   ]
  },
  {
   "cell_type": "code",
   "execution_count": 11,
   "id": "a0d5488b-86fc-4d05-af8f-d85e44dacd87",
   "metadata": {},
   "outputs": [
    {
     "data": {
      "text/plain": [
       "0         Kensington and Chelsea\n",
       "1         Kensington and Chelsea\n",
       "2         Kensington and Chelsea\n",
       "3         Kensington and Chelsea\n",
       "4         Kensington and Chelsea\n",
       "                   ...          \n",
       "660674                  Highland\n",
       "660675                  Highland\n",
       "660676                  Highland\n",
       "660677                  Highland\n",
       "660678                  Highland\n",
       "Name: District Area, Length: 660679, dtype: object"
      ]
     },
     "execution_count": 11,
     "metadata": {},
     "output_type": "execute_result"
    }
   ],
   "source": [
    "accident['District Area']"
   ]
  },
  {
   "cell_type": "code",
   "execution_count": 12,
   "id": "8091140a-8a7f-48b3-8370-a6a85829a01b",
   "metadata": {},
   "outputs": [
    {
     "data": {
      "text/plain": [
       "0        -0.209082\n",
       "1        -0.173647\n",
       "2        -0.210215\n",
       "3        -0.202731\n",
       "4        -0.192487\n",
       "            ...   \n",
       "660674   -3.467828\n",
       "660675   -3.809281\n",
       "660676   -3.862727\n",
       "660677   -3.823997\n",
       "660678   -3.895673\n",
       "Name: Longitude, Length: 660679, dtype: float64"
      ]
     },
     "execution_count": 12,
     "metadata": {},
     "output_type": "execute_result"
    }
   ],
   "source": [
    "accident['Longitude']"
   ]
  },
  {
   "cell_type": "code",
   "execution_count": 13,
   "id": "cdabdf58-90a1-4ab2-bb84-decbab457fbe",
   "metadata": {},
   "outputs": [
    {
     "data": {
      "text/plain": [
       "0         1\n",
       "1         1\n",
       "2         1\n",
       "3         1\n",
       "4         1\n",
       "         ..\n",
       "660674    2\n",
       "660675    1\n",
       "660676    1\n",
       "660677    1\n",
       "660678    1\n",
       "Name: Number_of_Casualties, Length: 660679, dtype: int64"
      ]
     },
     "execution_count": 13,
     "metadata": {},
     "output_type": "execute_result"
    }
   ],
   "source": [
    "accident['Number_of_Casualties']"
   ]
  },
  {
   "cell_type": "code",
   "execution_count": 14,
   "id": "86937556-e73e-420b-b142-a57714fcb51f",
   "metadata": {},
   "outputs": [
    {
     "data": {
      "text/plain": [
       "0         2\n",
       "1         2\n",
       "2         3\n",
       "3         4\n",
       "4         2\n",
       "         ..\n",
       "660674    1\n",
       "660675    1\n",
       "660676    3\n",
       "660677    2\n",
       "660678    1\n",
       "Name: Number_of_Vehicles, Length: 660679, dtype: int64"
      ]
     },
     "execution_count": 14,
     "metadata": {},
     "output_type": "execute_result"
    }
   ],
   "source": [
    "accident['Number_of_Vehicles']"
   ]
  },
  {
   "cell_type": "code",
   "execution_count": 15,
   "id": "fc328abe-2e95-4d57-a623-d908e78de238",
   "metadata": {},
   "outputs": [
    {
     "data": {
      "text/plain": [
       "0                  Dry\n",
       "1          Wet or damp\n",
       "2                  Dry\n",
       "3                  Dry\n",
       "4                  Dry\n",
       "              ...     \n",
       "660674             Dry\n",
       "660675    Frost or ice\n",
       "660676    Frost or ice\n",
       "660677     Wet or damp\n",
       "660678     Wet or damp\n",
       "Name: Road_Surface_Conditions, Length: 660679, dtype: object"
      ]
     },
     "execution_count": 15,
     "metadata": {},
     "output_type": "execute_result"
    }
   ],
   "source": [
    "accident['Road_Surface_Conditions']"
   ]
  },
  {
   "cell_type": "code",
   "execution_count": 16,
   "id": "6c1d901c-3069-4ca5-84ac-ec792ffe71ea",
   "metadata": {},
   "outputs": [
    {
     "data": {
      "text/plain": [
       "0         Single carriageway\n",
       "1         Single carriageway\n",
       "2                        NaN\n",
       "3         Single carriageway\n",
       "4                        NaN\n",
       "                 ...        \n",
       "660674    Single carriageway\n",
       "660675    Single carriageway\n",
       "660676    Single carriageway\n",
       "660677    Single carriageway\n",
       "660678      Dual carriageway\n",
       "Name: Road_Type, Length: 660679, dtype: object"
      ]
     },
     "execution_count": 16,
     "metadata": {},
     "output_type": "execute_result"
    }
   ],
   "source": [
    "accident['Road_Type']"
   ]
  },
  {
   "cell_type": "code",
   "execution_count": 17,
   "id": "9ed6b7fb-b6b4-441b-ab44-21f7821c4ce9",
   "metadata": {},
   "outputs": [
    {
     "data": {
      "text/plain": [
       "0         Urban\n",
       "1         Urban\n",
       "2         Urban\n",
       "3         Urban\n",
       "4         Urban\n",
       "          ...  \n",
       "660674    Rural\n",
       "660675    Rural\n",
       "660676    Rural\n",
       "660677    Rural\n",
       "660678    Rural\n",
       "Name: Urban_or_Rural_Area, Length: 660679, dtype: object"
      ]
     },
     "execution_count": 17,
     "metadata": {},
     "output_type": "execute_result"
    }
   ],
   "source": [
    "accident['Urban_or_Rural_Area']"
   ]
  },
  {
   "cell_type": "code",
   "execution_count": 18,
   "id": "29e3f9e7-87f0-482f-9079-a4e8d3d60617",
   "metadata": {},
   "outputs": [
    {
     "data": {
      "text/plain": [
       "0            Fine no high winds\n",
       "1         Raining no high winds\n",
       "2                           NaN\n",
       "3            Fine no high winds\n",
       "4                           NaN\n",
       "                  ...          \n",
       "660674       Fine no high winds\n",
       "660675       Fine no high winds\n",
       "660676       Fine no high winds\n",
       "660677       Fine no high winds\n",
       "660678    Snowing no high winds\n",
       "Name: Weather_Conditions, Length: 660679, dtype: object"
      ]
     },
     "execution_count": 18,
     "metadata": {},
     "output_type": "execute_result"
    }
   ],
   "source": [
    "accident['Weather_Conditions']"
   ]
  },
  {
   "cell_type": "code",
   "execution_count": 19,
   "id": "4e217c82-25bf-4571-8b20-ef0a7f39e274",
   "metadata": {},
   "outputs": [
    {
     "data": {
      "text/plain": [
       "0                                          Car\n",
       "1                                          Car\n",
       "2                        Taxi/Private hire car\n",
       "3         Bus or coach (17 or more pass seats)\n",
       "4                                Other vehicle\n",
       "                          ...                 \n",
       "660674                                     Car\n",
       "660675                                     Car\n",
       "660676                                     Car\n",
       "660677                   Motorcycle over 500cc\n",
       "660678                                     Car\n",
       "Name: Vehicle_Type, Length: 660679, dtype: object"
      ]
     },
     "execution_count": 19,
     "metadata": {},
     "output_type": "execute_result"
    }
   ],
   "source": [
    "accident['Vehicle_Type']"
   ]
  },
  {
   "cell_type": "markdown",
   "id": "698a9442-a28e-42fe-a504-b2f5c3b6f526",
   "metadata": {},
   "source": [
    "<h1>6) Check For Null Values</h1>"
   ]
  },
  {
   "cell_type": "code",
   "execution_count": 20,
   "id": "425e9426-b3f2-4535-a47e-83cddb5c895d",
   "metadata": {},
   "outputs": [
    {
     "data": {
      "text/plain": [
       "Index                          0\n",
       "Accident_Severity              0\n",
       "Accident Date                  0\n",
       "Latitude                      25\n",
       "Light_Conditions               0\n",
       "District Area                  0\n",
       "Longitude                     26\n",
       "Number_of_Casualties           0\n",
       "Number_of_Vehicles             0\n",
       "Road_Surface_Conditions      726\n",
       "Road_Type                   4520\n",
       "Urban_or_Rural_Area           15\n",
       "Weather_Conditions         14128\n",
       "Vehicle_Type                   0\n",
       "dtype: int64"
      ]
     },
     "execution_count": 20,
     "metadata": {},
     "output_type": "execute_result"
    }
   ],
   "source": [
    "accident.isnull().sum()"
   ]
  },
  {
   "cell_type": "markdown",
   "id": "0d60294e-54dc-4b56-9bb8-1ab18e9896c8",
   "metadata": {},
   "source": [
    "<h1>7) Fill Null Values with statistical values</h1>"
   ]
  },
  {
   "cell_type": "code",
   "execution_count": 21,
   "id": "6acd0d67-939a-4e7c-99b8-fe40e21a7801",
   "metadata": {},
   "outputs": [],
   "source": [
    "accident['Accident_Severity'] = accident['Accident_Severity'].fillna(accident['Accident_Severity'].mode()[0])\n",
    "accident['Light_Conditions'] = accident['Light_Conditions'].fillna(accident['Light_Conditions'].mode()[0])\n",
    "accident['Road_Surface_Conditions'] = accident['Road_Surface_Conditions'].fillna(accident['Road_Surface_Conditions'].mode()[0])\n",
    "accident['Number_of_Casualties'] = accident['Number_of_Casualties'].fillna(accident['Number_of_Casualties'].median())\n",
    "accident['Number_of_Vehicles'] = accident['Number_of_Vehicles'].fillna(accident['Number_of_Vehicles'].median())\n",
    "accident['District Area'] = accident['District Area'].fillna(accident['District Area'].mode()[0])"
   ]
  },
  {
   "cell_type": "code",
   "execution_count": 22,
   "id": "7653bfb8-e8ac-4fa5-be00-5c442f50f055",
   "metadata": {},
   "outputs": [
    {
     "data": {
      "text/plain": [
       "Index                          0\n",
       "Accident_Severity              0\n",
       "Accident Date                  0\n",
       "Latitude                      25\n",
       "Light_Conditions               0\n",
       "District Area                  0\n",
       "Longitude                     26\n",
       "Number_of_Casualties           0\n",
       "Number_of_Vehicles             0\n",
       "Road_Surface_Conditions        0\n",
       "Road_Type                   4520\n",
       "Urban_or_Rural_Area           15\n",
       "Weather_Conditions         14128\n",
       "Vehicle_Type                   0\n",
       "dtype: int64"
      ]
     },
     "execution_count": 22,
     "metadata": {},
     "output_type": "execute_result"
    }
   ],
   "source": [
    "accident.isnull().sum()"
   ]
  },
  {
   "cell_type": "markdown",
   "id": "120c98f6-3cb8-40f1-82de-41277977bf18",
   "metadata": {},
   "source": [
    "<h1>8) Check Column Data Types</h1>"
   ]
  },
  {
   "cell_type": "code",
   "execution_count": 23,
   "id": "16c11b6a-6d5f-4ad7-a999-51c1837b2497",
   "metadata": {},
   "outputs": [
    {
     "data": {
      "text/plain": [
       "<bound method DataFrame.info of                 Index Accident_Severity Accident Date   Latitude  \\\n",
       "0       200701BS64157           Serious      5/6/2019  51.506187   \n",
       "1       200701BS65737           Serious      2/7/2019  51.495029   \n",
       "2       200701BS66127           Serious    26-08-2019  51.517715   \n",
       "3       200701BS66128           Serious    16-08-2019  51.495478   \n",
       "4       200701BS66837            Slight      3/9/2019  51.488576   \n",
       "...               ...               ...           ...        ...   \n",
       "660674  201091NM01760            Slight    18-02-2022  57.374005   \n",
       "660675  201091NM01881            Slight    21-02-2022  57.232273   \n",
       "660676  201091NM01935            Slight    23-02-2022  57.585044   \n",
       "660677  201091NM01964           Serious    23-02-2022  57.214898   \n",
       "660678  201091NM02142           Serious    28-02-2022  57.575210   \n",
       "\n",
       "                   Light_Conditions           District Area  Longitude  \\\n",
       "0             Darkness - lights lit  Kensington and Chelsea  -0.209082   \n",
       "1                          Daylight  Kensington and Chelsea  -0.173647   \n",
       "2       Darkness - lighting unknown  Kensington and Chelsea  -0.210215   \n",
       "3                          Daylight  Kensington and Chelsea  -0.202731   \n",
       "4             Darkness - lights lit  Kensington and Chelsea  -0.192487   \n",
       "...                             ...                     ...        ...   \n",
       "660674                     Daylight                Highland  -3.467828   \n",
       "660675       Darkness - no lighting                Highland  -3.809281   \n",
       "660676                     Daylight                Highland  -3.862727   \n",
       "660677       Darkness - no lighting                Highland  -3.823997   \n",
       "660678                     Daylight                Highland  -3.895673   \n",
       "\n",
       "        Number_of_Casualties  Number_of_Vehicles Road_Surface_Conditions  \\\n",
       "0                          1                   2                     Dry   \n",
       "1                          1                   2             Wet or damp   \n",
       "2                          1                   3                     Dry   \n",
       "3                          1                   4                     Dry   \n",
       "4                          1                   2                     Dry   \n",
       "...                      ...                 ...                     ...   \n",
       "660674                     2                   1                     Dry   \n",
       "660675                     1                   1            Frost or ice   \n",
       "660676                     1                   3            Frost or ice   \n",
       "660677                     1                   2             Wet or damp   \n",
       "660678                     1                   1             Wet or damp   \n",
       "\n",
       "                 Road_Type Urban_or_Rural_Area     Weather_Conditions  \\\n",
       "0       Single carriageway               Urban     Fine no high winds   \n",
       "1       Single carriageway               Urban  Raining no high winds   \n",
       "2                      NaN               Urban                    NaN   \n",
       "3       Single carriageway               Urban     Fine no high winds   \n",
       "4                      NaN               Urban                    NaN   \n",
       "...                    ...                 ...                    ...   \n",
       "660674  Single carriageway               Rural     Fine no high winds   \n",
       "660675  Single carriageway               Rural     Fine no high winds   \n",
       "660676  Single carriageway               Rural     Fine no high winds   \n",
       "660677  Single carriageway               Rural     Fine no high winds   \n",
       "660678    Dual carriageway               Rural  Snowing no high winds   \n",
       "\n",
       "                                Vehicle_Type  \n",
       "0                                        Car  \n",
       "1                                        Car  \n",
       "2                      Taxi/Private hire car  \n",
       "3       Bus or coach (17 or more pass seats)  \n",
       "4                              Other vehicle  \n",
       "...                                      ...  \n",
       "660674                                   Car  \n",
       "660675                                   Car  \n",
       "660676                                   Car  \n",
       "660677                 Motorcycle over 500cc  \n",
       "660678                                   Car  \n",
       "\n",
       "[660679 rows x 14 columns]>"
      ]
     },
     "execution_count": 23,
     "metadata": {},
     "output_type": "execute_result"
    }
   ],
   "source": [
    "accident.info"
   ]
  },
  {
   "cell_type": "markdown",
   "id": "228d27d9-0ca2-49a1-bffd-be7b0da49e32",
   "metadata": {},
   "source": [
    "<h1>20. QUESTION AND INSIGHTS:</h1>"
   ]
  },
  {
   "cell_type": "markdown",
   "id": "896a6d39-22e4-415f-b635-eb6bbf0f9f39",
   "metadata": {},
   "source": [
    "<h1>Q1) How many accidents are recorded in total?</h1>"
   ]
  },
  {
   "cell_type": "code",
   "execution_count": 24,
   "id": "51183888-ab39-42c1-90e5-5973072f3147",
   "metadata": {},
   "outputs": [
    {
     "data": {
      "text/plain": [
       "660679"
      ]
     },
     "execution_count": 24,
     "metadata": {},
     "output_type": "execute_result"
    }
   ],
   "source": [
    "total_accidents = accident.shape[0]\n",
    "total_accidents"
   ]
  },
  {
   "cell_type": "markdown",
   "id": "96247fa3-888c-4b9b-af60-7ea40c15e7a3",
   "metadata": {},
   "source": [
    "<h3>Insight: This shows the size of the dataset and tells us how many accident records we’re analyzing. It’s the baseline figure that tells us how large the dataset is.</h3>"
   ]
  },
  {
   "cell_type": "markdown",
   "id": "c771bb2e-79b6-4bf1-b235-23bb2e5849b9",
   "metadata": {},
   "source": [
    "<h1>Q2) How many columns features are present in the dataset?</h1>"
   ]
  },
  {
   "cell_type": "code",
   "execution_count": 25,
   "id": "58f4397f-f726-4778-abdb-87646913bcc5",
   "metadata": {},
   "outputs": [
    {
     "data": {
      "text/plain": [
       "14"
      ]
     },
     "execution_count": 25,
     "metadata": {},
     "output_type": "execute_result"
    }
   ],
   "source": [
    "num_columns = accident.shape[1]\n",
    "num_columns"
   ]
  },
  {
   "cell_type": "markdown",
   "id": "a414ee43-a0bd-4197-b919-0120ea7c696c",
   "metadata": {},
   "source": [
    "<h3>Insights: This indicates the number of features to be analyzed. The more columns, the more information and aspects to examine in accidents.</h3>"
   ]
  },
  {
   "cell_type": "markdown",
   "id": "15f39c39-45b3-42c4-a0c1-e327ebc827fb",
   "metadata": {},
   "source": [
    "<h3>Q3) How many missing values are in each column?</h3>"
   ]
  },
  {
   "cell_type": "code",
   "execution_count": 26,
   "id": "b0bfec88-c003-4e13-aa88-92fab1dee7f0",
   "metadata": {},
   "outputs": [
    {
     "data": {
      "text/plain": [
       "Index                          0\n",
       "Accident_Severity              0\n",
       "Accident Date                  0\n",
       "Latitude                      25\n",
       "Light_Conditions               0\n",
       "District Area                  0\n",
       "Longitude                     26\n",
       "Number_of_Casualties           0\n",
       "Number_of_Vehicles             0\n",
       "Road_Surface_Conditions        0\n",
       "Road_Type                   4520\n",
       "Urban_or_Rural_Area           15\n",
       "Weather_Conditions         14128\n",
       "Vehicle_Type                   0\n",
       "dtype: int64"
      ]
     },
     "execution_count": 26,
     "metadata": {},
     "output_type": "execute_result"
    }
   ],
   "source": [
    "missing_values = accident.isnull().sum()\n",
    "missing_values"
   ]
  },
  {
   "cell_type": "markdown",
   "id": "77d1bf74-03c8-44de-9d7a-5e582a7e2704",
   "metadata": {},
   "source": [
    "<h3>Insights: Missing values indicate where in the dataset there could be missing or unreliable data. If certain columns have too many missing values, we may leave them out of further analysis. Handling missing data is important for clean and accurate results.</h3>"
   ]
  },
  {
   "cell_type": "markdown",
   "id": "ff62f672-7f37-431e-8e9a-a2aebdce344f",
   "metadata": {},
   "source": [
    "<h1>Q4) What is the earliest and latest accident date?</h1>"
   ]
  },
  {
   "cell_type": "code",
   "execution_count": 27,
   "id": "5bcf2e6c-32e1-4f8f-b80a-5e60c6126b4e",
   "metadata": {},
   "outputs": [
    {
     "data": {
      "text/plain": [
       "(Timestamp('2019-01-01 00:00:00'), Timestamp('2022-12-12 00:00:00'))"
      ]
     },
     "execution_count": 27,
     "metadata": {},
     "output_type": "execute_result"
    }
   ],
   "source": [
    "accident['Accident Date'] = pd.to_datetime(accident['Accident Date'], errors='coerce', dayfirst=True)\n",
    "earliest = accident['Accident Date'].min()\n",
    "latest = accident['Accident Date'].max()\n",
    "earliest, latest"
   ]
  },
  {
   "cell_type": "markdown",
   "id": "ceeb6619-4d61-494a-a5f7-f741b85f864d",
   "metadata": {},
   "source": [
    "<h3>Insights: This defines the time range covered by the dataset. Knowing the earliest and latest accident dates helps us see if the data spans just a short period or many years. It also sets the timeline for analyzing accident trends.</h3>"
   ]
  },
  {
   "cell_type": "markdown",
   "id": "880ddf7b-ac93-4a4b-8f23-c565dd986319",
   "metadata": {},
   "source": [
    "<h1>Q5) Which year has the most accidents recorded?</h1>"
   ]
  },
  {
   "cell_type": "code",
   "execution_count": 28,
   "id": "65724dbb-c3ae-46c1-9951-bf0071561096",
   "metadata": {},
   "outputs": [
    {
     "data": {
      "text/plain": [
       "(np.float64(2019.0), np.int64(71867))"
      ]
     },
     "execution_count": 28,
     "metadata": {},
     "output_type": "execute_result"
    }
   ],
   "source": [
    "accident['Year'] = accident['Accident Date'].dt.year\n",
    "accidents_per_year = accident['Year'].value_counts().sort_index()\n",
    "accidents_per_year.idxmax(), accidents_per_year.max()"
   ]
  },
  {
   "cell_type": "markdown",
   "id": "a2f2bd6c-8d8c-4718-a24a-99af382e1da4",
   "metadata": {},
   "source": [
    "<h3>Insights: The dataset indicates the highest figure or peak year of road accidents. Higher accident count in a specific year could mean increased traffic, changes in reporting, or safety issues. </h3>"
   ]
  },
  {
   "cell_type": "markdown",
   "id": "fc15cf98-0d9d-4cd2-b1b3-397a0d88677d",
   "metadata": {},
   "source": [
    "<h1>Q6) Which month has the highest number of accidents?</h1>"
   ]
  },
  {
   "cell_type": "code",
   "execution_count": 29,
   "id": "7e0030b7-f49c-415c-ba3e-0f7ddd0187f3",
   "metadata": {},
   "outputs": [
    {
     "data": {
      "text/plain": [
       "Month\n",
       "November     24240\n",
       "December     24156\n",
       "October      23962\n",
       "July         22939\n",
       "September    22558\n",
       "February     22264\n",
       "June         22196\n",
       "March        21824\n",
       "May          21723\n",
       "August       21106\n",
       "April        19787\n",
       "January      18252\n",
       "Name: count, dtype: int64"
      ]
     },
     "execution_count": 29,
     "metadata": {},
     "output_type": "execute_result"
    }
   ],
   "source": [
    "accident['Month'] = accident['Accident Date'].dt.month_name()\n",
    "accidents_per_month = accident['Month'].value_counts().sort_index()\n",
    "accident['Month'].value_counts()"
   ]
  },
  {
   "cell_type": "markdown",
   "id": "618bb872-eb04-4ef5-8786-c2435613616f",
   "metadata": {},
   "source": [
    "<h3>Insights: Accidents are expected to have their increased in November and in December. These may perhaps be due to holidays and the slamming busy roads at this time. Some months may indicate to be more dangerous than others.</h3>"
   ]
  },
  {
   "cell_type": "markdown",
   "id": "4b813c7a-87d7-4e11-babb-385d187f90b0",
   "metadata": {},
   "source": [
    "<h1>Q7) Which day of the week records the most accidents?</h1>"
   ]
  },
  {
   "cell_type": "code",
   "execution_count": 30,
   "id": "9766ba42-5aee-4cea-9a4f-6cfd22dbe47c",
   "metadata": {},
   "outputs": [
    {
     "data": {
      "text/plain": [
       "DayOfWeek\n",
       "Saturday     43164\n",
       "Wednesday    40037\n",
       "Friday       39822\n",
       "Thursday     39641\n",
       "Tuesday      38714\n",
       "Sunday       35065\n",
       "Monday       28564\n",
       "Name: count, dtype: int64"
      ]
     },
     "execution_count": 30,
     "metadata": {},
     "output_type": "execute_result"
    }
   ],
   "source": [
    "accident['DayOfWeek'] = accident['Accident Date'].dt.day_name()\n",
    "accidents_per_day = accident['DayOfWeek'].value_counts()\n",
    "accidents_per_day.idxmax(), accidents_per_day.max()\n",
    "accidents_per_day"
   ]
  },
  {
   "cell_type": "markdown",
   "id": "f62c85bf-b8c6-4af6-a7e1-cd26fa422319",
   "metadata": {},
   "source": [
    "<h3>Insights: Some days may bring a higher risk with aspects related to temporary trips, whether commuting or during leisure. Fridays would be prone to accident spikes as a result of heavy evening traffic, while weekends may reflect leisure-related incidence or excess drinking.</h3>"
   ]
  },
  {
   "cell_type": "markdown",
   "id": "2e97b1e0-2f08-4944-9f31-7a39cd980f65",
   "metadata": {},
   "source": [
    "<h1>Q8) What hour of the day do most accidents occur?</h1>"
   ]
  },
  {
   "cell_type": "code",
   "execution_count": 31,
   "id": "186c0d47-18df-4409-a33a-fc55b4d90dda",
   "metadata": {},
   "outputs": [
    {
     "data": {
      "text/plain": [
       "Hour\n",
       "0.0    265007\n",
       "Name: count, dtype: int64"
      ]
     },
     "execution_count": 31,
     "metadata": {},
     "output_type": "execute_result"
    }
   ],
   "source": [
    "accident['Hour'] = accident['Accident Date'].dt.hour\n",
    "accidents_per_hour = accident['Hour'].value_counts().sort_index()\n",
    "accidents_per_hour.idxmax(), accidents_per_hour.max()\n",
    "accidents_per_hour"
   ]
  },
  {
   "cell_type": "markdown",
   "id": "43c1ee4c-9455-44e0-89d0-3d7a432b6775",
   "metadata": {},
   "source": [
    "<h3>Insights: Accident times often align with rush hours or late-night driving. Rush hours indicate congestion risks, while late nights may reflect fatigue or impaired driving. This insight helps in adjusting road safety campaigns by time of day.</h3>"
   ]
  },
  {
   "cell_type": "markdown",
   "id": "cc777462-92d9-46b0-97aa-ec47d5ff14fa",
   "metadata": {},
   "source": [
    "<h1>Q9) Which day and hour combination has the highest accident count?</h1>"
   ]
  },
  {
   "cell_type": "code",
   "execution_count": 32,
   "id": "7351e430-33b4-4c4b-86b9-c72a366a6a83",
   "metadata": {},
   "outputs": [
    {
     "data": {
      "text/plain": [
       "DayOfWeek  Hour\n",
       "Friday     0.0     39822\n",
       "Monday     0.0     28564\n",
       "Saturday   0.0     43164\n",
       "Sunday     0.0     35065\n",
       "Thursday   0.0     39641\n",
       "Tuesday    0.0     38714\n",
       "Wednesday  0.0     40037\n",
       "dtype: int64"
      ]
     },
     "execution_count": 32,
     "metadata": {},
     "output_type": "execute_result"
    }
   ],
   "source": [
    "day_hour_counts = accident.groupby(['DayOfWeek', 'Hour']).size()\n",
    "day_hour_counts.idxmax(), day_hour_counts.max()\n",
    "day_hour_counts"
   ]
  },
  {
   "cell_type": "markdown",
   "id": "0a4b4799-06de-40eb-96e7-4c0c6c2c24cb",
   "metadata": {},
   "source": [
    "<h3>Insights: Combining day and hour gives a clear view of the riskiest driving times. For example, Monday mornings may reflect busy commutes, while late nights on weekends may show more crashes related to alcohol. This information helps assign police patrols or safety reminders more effectively.</h3>"
   ]
  },
  {
   "cell_type": "markdown",
   "id": "68bf5f24-f405-4d29-846d-1d52627779f3",
   "metadata": {},
   "source": [
    "<h1>Q10) Which urban/rural setting has more accidents?</h1>"
   ]
  },
  {
   "cell_type": "code",
   "execution_count": 33,
   "id": "c02d4308-aac5-473a-a0b6-35c05f6f063b",
   "metadata": {},
   "outputs": [
    {
     "data": {
      "text/plain": [
       "Urban_or_Rural_Area\n",
       "Urban          421663\n",
       "Rural          238990\n",
       "Unallocated        11\n",
       "Name: count, dtype: int64"
      ]
     },
     "execution_count": 33,
     "metadata": {},
     "output_type": "execute_result"
    }
   ],
   "source": [
    "accidents_urban_rural = accident['Urban_or_Rural_Area'].value_counts()\n",
    "accidents_urban_rural.idxmax(), accidents_urban_rural.max()\n",
    "accidents_urban_rural"
   ]
  },
  {
   "cell_type": "markdown",
   "id": "a00d2cbc-f4b0-49cd-a79d-811c6ba7f9e6",
   "metadata": {},
   "source": [
    "<h3>Insights: Urban areas usually have more accidents because of higher traffic density, while rural roads may have fewer accidents but higher severity. This distinction shows how accident prevention strategies must differ between city and countryside.</h3>"
   ]
  },
  {
   "cell_type": "markdown",
   "id": "87333109-3d89-467b-8296-450ff2335e9b",
   "metadata": {},
   "source": [
    "<h1>Q11) Which speed limit is associated with the most accidents?</h1>"
   ]
  },
  {
   "cell_type": "code",
   "execution_count": 34,
   "id": "a5abaec0-5a9e-4b24-8f85-811e14c93875",
   "metadata": {},
   "outputs": [
    {
     "data": {
      "text/plain": [
       "Road_Type\n",
       "Single carriageway    492143\n",
       "Dual carriageway       99424\n",
       "Roundabout             43992\n",
       "One way street         13559\n",
       "Slip road               7041\n",
       "Name: Index, dtype: int64"
      ]
     },
     "execution_count": 34,
     "metadata": {},
     "output_type": "execute_result"
    }
   ],
   "source": [
    "accidents_speed = accident.groupby('Road_Type')['Index'].count().sort_values(ascending=False)\n",
    "accidents_speed.head(1)\n",
    "accidents_speed"
   ]
  },
  {
   "cell_type": "markdown",
   "id": "4f9f53ad-b114-4d37-b723-b8a3577e4d45",
   "metadata": {},
   "source": [
    "<h3>Insights: Urban areas usually have more accidents because they have more traffic. Rural roads might have fewer accidents, but those that occur are often more severe. This difference illustrates that accident prevention strategies need to vary between cities and the countryside.</h3>"
   ]
  },
  {
   "cell_type": "markdown",
   "id": "dec35255-1a12-42a5-8657-c4ba808798b2",
   "metadata": {},
   "source": [
    "<h1>Q12) What is the total number of casualties across all accidents?</h1>"
   ]
  },
  {
   "cell_type": "code",
   "execution_count": 35,
   "id": "fe4c36f0-193f-4c9f-9725-0e291533c1a7",
   "metadata": {},
   "outputs": [
    {
     "data": {
      "text/plain": [
       "np.int64(896568)"
      ]
     },
     "execution_count": 35,
     "metadata": {},
     "output_type": "execute_result"
    }
   ],
   "source": [
    "total_casualties = accident['Number_of_Casualties'].sum()\n",
    "total_casualties"
   ]
  },
  {
   "cell_type": "markdown",
   "id": "8cb0a64e-81d3-410e-845e-91f730381c84",
   "metadata": {},
   "source": [
    "<h3>Insights: This provides the total number of people injured or killed in the dataset. Examining casualties shows the human cost of accidents beyond just the number of incidents. It helps us grasp the overall effect on society.</h3>"
   ]
  },
  {
   "cell_type": "markdown",
   "id": "189f810d-f666-4b04-9b5f-5fbae77445d0",
   "metadata": {},
   "source": [
    "<h1>Q13) What is the average number of casualties per accident?</h1>"
   ]
  },
  {
   "cell_type": "code",
   "execution_count": 36,
   "id": "abc0290c-1d5d-4b7b-9c56-8ed281cee7a2",
   "metadata": {},
   "outputs": [
    {
     "data": {
      "text/plain": [
       "np.float64(1.357040257068864)"
      ]
     },
     "execution_count": 36,
     "metadata": {},
     "output_type": "execute_result"
    }
   ],
   "source": [
    "avg_casualties = accident['Number_of_Casualties'].mean()\n",
    "avg_casualties"
   ]
  },
  {
   "cell_type": "markdown",
   "id": "46c0e726-0f05-4afa-bde3-4de93f2be925",
   "metadata": {},
   "source": [
    "<h3>Insights: This measure shows the severity of accidents on average. If the number is closer to 1, most accidents involve only one casualty. Higher averages suggest more frequent multi-casualty incidents.</h3>"
   ]
  },
  {
   "cell_type": "markdown",
   "id": "41a4656c-6ceb-462a-823d-65f7abd72e28",
   "metadata": {},
   "source": [
    "<h1>Q14) How many accidents had exactly 1 casualty?</h1>"
   ]
  },
  {
   "cell_type": "code",
   "execution_count": 37,
   "id": "97ce40cc-5e65-4354-a1c6-9e09d88f5f9c",
   "metadata": {},
   "outputs": [
    {
     "data": {
      "text/plain": [
       "504041"
      ]
     },
     "execution_count": 37,
     "metadata": {},
     "output_type": "execute_result"
    }
   ],
   "source": [
    "single_casualty_accidents = accident[accident['Number_of_Casualties'] == 1].shape[0]\n",
    "single_casualty_accidents"
   ]
  },
  {
   "cell_type": "markdown",
   "id": "f33ba4da-ebd1-4523-99fa-415cfd8ac6b4",
   "metadata": {},
   "source": [
    "<h3>Insights: Single-casualty accidents are normally less severe when compared to multi-casualty accidents. Knowing the proportion of single-casualty accidents is helpful to understand how relatively common it is to have a less serious accident. The proportion of single-casualty accidents is our starting point to compare with more serious accidents.</h3>"
   ]
  },
  {
   "cell_type": "markdown",
   "id": "e61bd838-2293-40be-81e9-263973996574",
   "metadata": {},
   "source": [
    "<h1>Q15) Which year recorded the most casualties overall?</h1>"
   ]
  },
  {
   "cell_type": "code",
   "execution_count": 38,
   "id": "11be066b-a2bf-4b78-a45f-905cd1c463c7",
   "metadata": {},
   "outputs": [
    {
     "data": {
      "text/plain": [
       "Year\n",
       "2019.0    97602\n",
       "2020.0    94650\n",
       "2021.0    89406\n",
       "2022.0    76683\n",
       "Name: Number_of_Casualties, dtype: int64"
      ]
     },
     "execution_count": 38,
     "metadata": {},
     "output_type": "execute_result"
    }
   ],
   "source": [
    "casualties_per_year = accident.groupby('Year')['Number_of_Casualties'].sum()\n",
    "casualties_per_year.idxmax(), casualties_per_year.max()\n",
    "casualties_per_year"
   ]
  },
  {
   "cell_type": "markdown",
   "id": "2838eb0d-8856-4b82-a38e-7601be16b4cb",
   "metadata": {},
   "source": [
    "<h3>Insights: This indicates the year with the highest casualty count, not accidents. A year when accidents may be lower, but casualties higher could also indicate more serious crashes. This is also useful for identifying long-term safety trends.</h3>"
   ]
  },
  {
   "cell_type": "markdown",
   "id": "eba042bf-0795-4f93-a32f-bb630a891496",
   "metadata": {},
   "source": [
    "<h1>Q16) Which weather condition is linked to the most accidents?</h1>"
   ]
  },
  {
   "cell_type": "code",
   "execution_count": 39,
   "id": "70f311c8-4628-4922-b44d-337d063622d0",
   "metadata": {},
   "outputs": [
    {
     "data": {
      "text/plain": [
       "Weather_Conditions\n",
       "Fine no high winds       520885\n",
       "Raining no high winds     79696\n",
       "Other                     17150\n",
       "Raining + high winds       9615\n",
       "Fine + high winds          8554\n",
       "Snowing no high winds      6238\n",
       "Fog or mist                3528\n",
       "Snowing + high winds        885\n",
       "Name: count, dtype: int64"
      ]
     },
     "execution_count": 39,
     "metadata": {},
     "output_type": "execute_result"
    }
   ],
   "source": [
    "weather_accidents = accident['Weather_Conditions'].value_counts()\n",
    "weather_accidents.idxmax(), weather_accidents.max()\n",
    "weather_accidents"
   ]
  },
  {
   "cell_type": "markdown",
   "id": "cb59c097-1f5e-4fcf-b8f0-681fce0bac53",
   "metadata": {},
   "source": [
    "<h3>Insights: This shows which weather condition coincides with the highest number of accidents. Often, fine weather can still lead to more crashes simply because more people drive. Meanwhile, rain or fog may contribute to riskier driving situations.</h3>"
   ]
  },
  {
   "cell_type": "markdown",
   "id": "f38b7a11-35e3-4848-b8e1-edccf0bd8d09",
   "metadata": {},
   "source": [
    "<h1>Q17) Which light condition (daylight, darkness, streetlights) has the most accidents?</h1>"
   ]
  },
  {
   "cell_type": "code",
   "execution_count": 40,
   "id": "76924fe4-9b73-44ce-a8f4-739e3ce6197a",
   "metadata": {},
   "outputs": [
    {
     "data": {
      "text/plain": [
       "Light_Conditions\n",
       "Daylight                       484880\n",
       "Darkness - lights lit          129335\n",
       "Darkness - no lighting          37437\n",
       "Darkness - lighting unknown      6484\n",
       "Darkness - lights unlit          2543\n",
       "Name: count, dtype: int64"
      ]
     },
     "execution_count": 40,
     "metadata": {},
     "output_type": "execute_result"
    }
   ],
   "source": [
    "light_accidents = accident['Light_Conditions'].value_counts()\n",
    "light_accidents.idxmax(), light_accidents.max()\n",
    "light_accidents"
   ]
  },
  {
   "cell_type": "markdown",
   "id": "729b7556-78c3-4a49-b6ae-ad585bc0e0f6",
   "metadata": {},
   "source": [
    "<h3>Insights: Light conditions affect visibility and driver awareness. If most accidents happen in daylight, it may be due to heavy traffic exposure. On the other hand, accidents in dark conditions highlight visibility and lighting issues.</h3>"
   ]
  },
  {
   "cell_type": "markdown",
   "id": "409273d6-aa02-4a67-ba5a-9c1c30e80156",
   "metadata": {},
   "source": [
    "<h1>Q18) Which road surface condition (dry, wet, icy) is most accident-prone?</h1>"
   ]
  },
  {
   "cell_type": "code",
   "execution_count": 41,
   "id": "277520af-0008-4000-bb9b-fd108b267053",
   "metadata": {},
   "outputs": [
    {
     "data": {
      "text/plain": [
       "Road_Surface_Conditions\n",
       "Dry                     448547\n",
       "Wet or damp             186708\n",
       "Frost or ice             18517\n",
       "Snow                      5890\n",
       "Flood over 3cm. deep      1017\n",
       "Name: count, dtype: int64"
      ]
     },
     "execution_count": 41,
     "metadata": {},
     "output_type": "execute_result"
    }
   ],
   "source": [
    "surface_accidents = accident['Road_Surface_Conditions'].value_counts()\n",
    "surface_accidents.idxmax(), surface_accidents.max()\n",
    "surface_accidents"
   ]
  },
  {
   "cell_type": "markdown",
   "id": "baa20ff4-6af0-4ca2-b3ee-030a09cc094e",
   "metadata": {},
   "source": [
    "<h3>Insights: Surface conditions directly affect tire grip and braking distance. A high number of accidents on dry roads may reflect normal driving exposure. Wet or icy surfaces, even if less frequent, can cause more dangerous crashes.</h3>"
   ]
  },
  {
   "cell_type": "markdown",
   "id": "f761aa7b-54f9-4ce8-ba33-f7dc22215493",
   "metadata": {},
   "source": [
    "<h1>Q19) Which road surface condition has the highest average casualties per accident?</h1>"
   ]
  },
  {
   "cell_type": "code",
   "execution_count": 42,
   "id": "4f5c3316-e4b6-4766-8362-5dce67efbcbf",
   "metadata": {},
   "outputs": [
    {
     "data": {
      "text/plain": [
       "Road_Surface_Conditions\n",
       "Dry                     1.334545\n",
       "Flood over 3cm. deep    1.495575\n",
       "Frost or ice            1.348815\n",
       "Snow                    1.359593\n",
       "Wet or damp             1.411064\n",
       "Name: Number_of_Casualties, dtype: float64"
      ]
     },
     "execution_count": 42,
     "metadata": {},
     "output_type": "execute_result"
    }
   ],
   "source": [
    "casualties_per_surface = accident.groupby('Road_Surface_Conditions')['Number_of_Casualties'].mean()\n",
    "casualties_per_surface.idxmax(), casualties_per_surface.max()\n",
    "casualties_per_surface"
   ]
  },
  {
   "cell_type": "markdown",
   "id": "eb6d6731-9210-4a28-82fe-07dcfda8f93d",
   "metadata": {},
   "source": [
    "<h3>Insights: Looking at average casualties per surface type shows severity beyond just accident counts. Slippery or icy roads may not cause as many crashes but could result in worse injuries. This insight is important for prioritizing road maintenance.</h3>"
   ]
  },
  {
   "cell_type": "markdown",
   "id": "7eca8975-26f3-41d5-8add-d547d5b314fb",
   "metadata": {},
   "source": [
    "<h1>Q20) Which accident severity category is most common (slight, serious, fatal)?</h1>"
   ]
  },
  {
   "cell_type": "code",
   "execution_count": 43,
   "id": "05b8066e-9e3a-4701-809f-43eb826da978",
   "metadata": {},
   "outputs": [
    {
     "data": {
      "text/plain": [
       "Accident_Severity\n",
       "Slight     563801\n",
       "Serious     88217\n",
       "Fatal        8661\n",
       "Name: count, dtype: int64"
      ]
     },
     "execution_count": 43,
     "metadata": {},
     "output_type": "execute_result"
    }
   ],
   "source": [
    "severity_counts = accident['Accident_Severity'].value_counts()\n",
    "severity_counts.idxmax(), severity_counts.max()\n",
    "severity_counts"
   ]
  },
  {
   "cell_type": "markdown",
   "id": "cd275a6e-1e76-4c9c-8e3c-65aa741e1df1",
   "metadata": {},
   "source": [
    "<h3>Insights: Severity distribution tells us whether accidents are usually minor or more serious. If slight accidents dominate, it means many crashes happen but with limited harm. If serious or fatal cases are more common, it points to bigger safety concerns.</h3>"
   ]
  },
  {
   "cell_type": "code",
   "execution_count": null,
   "id": "65093084-07f9-494b-a34e-9ccc2144917c",
   "metadata": {},
   "outputs": [],
   "source": []
  }
 ],
 "metadata": {
  "kernelspec": {
   "display_name": "Python 3 (ipykernel)",
   "language": "python",
   "name": "python3"
  },
  "language_info": {
   "codemirror_mode": {
    "name": "ipython",
    "version": 3
   },
   "file_extension": ".py",
   "mimetype": "text/x-python",
   "name": "python",
   "nbconvert_exporter": "python",
   "pygments_lexer": "ipython3",
   "version": "3.13.0"
  }
 },
 "nbformat": 4,
 "nbformat_minor": 5
}
